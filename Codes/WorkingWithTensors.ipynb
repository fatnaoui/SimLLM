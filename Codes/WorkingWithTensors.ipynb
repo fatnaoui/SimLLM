{
  "nbformat": 4,
  "nbformat_minor": 0,
  "metadata": {
    "colab": {
      "provenance": []
    },
    "kernelspec": {
      "name": "python3",
      "display_name": "Python 3"
    },
    "language_info": {
      "name": "python"
    }
  },
  "cells": [
    {
      "cell_type": "code",
      "source": [
        "pip install -q torch"
      ],
      "metadata": {
        "id": "IPjAyKRlm8-7"
      },
      "execution_count": null,
      "outputs": []
    },
    {
      "cell_type": "code",
      "source": [
        "import torch"
      ],
      "metadata": {
        "id": "xocYnROKnB0C"
      },
      "execution_count": null,
      "outputs": []
    },
    {
      "cell_type": "markdown",
      "source": [
        "## A.2.1 Scalars, vectors, matrices, and tensors"
      ],
      "metadata": {
        "id": "Dr1Uv2EbVeAv"
      }
    },
    {
      "cell_type": "markdown",
      "source": [
        "We can create objects of PyTorch's Tensor class using the torch.tensor\n",
        "function as follows:"
      ],
      "metadata": {
        "id": "TWL_Pk99m41q"
      }
    },
    {
      "cell_type": "code",
      "source": [
        "tensor0d = torch.tensor(1)                                 # 0D\n",
        "tensor1d = torch.tensor([1,2,3])                           # 1D\n",
        "tensor2d = torch.tensor([[1,2],[3,4]])                     # 2D\n",
        "tensor3d = torch.tensor([[[1,2],[3,4]],[[5,6],[7,8]]])     # 3D"
      ],
      "metadata": {
        "id": "o_XEc2CZVmLQ"
      },
      "execution_count": null,
      "outputs": []
    },
    {
      "cell_type": "markdown",
      "source": [
        "## A.2.2 Tensor data types"
      ],
      "metadata": {
        "id": "9sF4gp2WoXCB"
      }
    },
    {
      "cell_type": "markdown",
      "source": [
        "In the previous section, we created tensors from Python integers. In this case,\n",
        "PyTorch adopts the default 64-bit integer data type from Python. We can\n",
        "access the data type of a tensor via the .dtype attribute of a tensor:"
      ],
      "metadata": {
        "id": "AF-vYSEbol_Z"
      }
    },
    {
      "cell_type": "code",
      "source": [
        "print(tensor1d.dtype)"
      ],
      "metadata": {
        "id": "iYRlkIoCVmN_"
      },
      "execution_count": null,
      "outputs": []
    },
    {
      "cell_type": "markdown",
      "source": [
        "If we create tensors from Python floats, PyTorch creates tensors with a 32-bit\n",
        "precision by default, as we can see below:"
      ],
      "metadata": {
        "id": "S1u03RJdorSp"
      }
    },
    {
      "cell_type": "code",
      "source": [
        "floatensor1d = torch.tensor([1.0,2.0,3.0])\n",
        "print(floatensor1d.dtype)"
      ],
      "metadata": {
        "id": "CgfBkLdsVmQU"
      },
      "execution_count": null,
      "outputs": []
    },
    {
      "cell_type": "markdown",
      "source": [
        "This choice is primarily due to the balance between precision and\n",
        "computational efficiency. A 32-bit floating point number offers sufficient\n",
        "precision for most deep learning tasks, while consuming less memory and\n",
        "computational resources than a 64-bit floating point number. Moreover, GPU\n",
        "architectures are optimized for 32-bit computations, and using this data type\n",
        "can significantly speed up model training and inference."
      ],
      "metadata": {
        "id": "z56D_XgrpLlI"
      }
    },
    {
      "cell_type": "markdown",
      "source": [
        "Moreover, it is possible to readily change the precision using a tensor's .to\n",
        "method. The following code demonstrates this by changing a 64-bit integer\n",
        "tensor into a 32-bit float tensor:"
      ],
      "metadata": {
        "id": "WdgOhWuipRQ-"
      }
    },
    {
      "cell_type": "code",
      "source": [
        "floatensor1d = torch.tensor([1,2,3]).to(torch.float32)\n",
        "print(floatensor1d.dtype)"
      ],
      "metadata": {
        "id": "fmTPu21Oo6Rr"
      },
      "execution_count": null,
      "outputs": []
    },
    {
      "cell_type": "markdown",
      "source": [
        "## A.2.3 Common PyTorch tensor operations"
      ],
      "metadata": {
        "id": "mG7IZ3GJs7_I"
      }
    },
    {
      "cell_type": "code",
      "source": [
        "tensor2d = torch.tensor([[1, 2, 3], [4, 5, 6]])"
      ],
      "metadata": {
        "id": "aMDKStgPs9t3"
      },
      "execution_count": null,
      "outputs": []
    },
    {
      "cell_type": "code",
      "source": [
        "# shape\n",
        "tensor2d.shape"
      ],
      "metadata": {
        "id": "9SW6l6ATs-zW"
      },
      "execution_count": null,
      "outputs": []
    },
    {
      "cell_type": "code",
      "source": [
        "# reshape\n",
        "print(tensor2d.reshape(3,2))"
      ],
      "metadata": {
        "id": "UmzhRVa6s-wm"
      },
      "execution_count": null,
      "outputs": []
    },
    {
      "cell_type": "code",
      "source": [
        "# transpose\n",
        "tensor2dT = tensor2d.T\n",
        "print(tensor2dT)"
      ],
      "metadata": {
        "id": "uYBOl2P5s-uA"
      },
      "execution_count": null,
      "outputs": []
    },
    {
      "cell_type": "code",
      "source": [
        "# multiply two matrices\n",
        "tensor2d @ tensor2dT"
      ],
      "metadata": {
        "id": "U6hnvRIws-rZ"
      },
      "execution_count": null,
      "outputs": []
    },
    {
      "cell_type": "code",
      "source": [],
      "metadata": {
        "id": "I3E7sc9ts-o3"
      },
      "execution_count": null,
      "outputs": []
    },
    {
      "cell_type": "code",
      "source": [],
      "metadata": {
        "id": "GIQTO8_ys-md"
      },
      "execution_count": null,
      "outputs": []
    }
  ]
}