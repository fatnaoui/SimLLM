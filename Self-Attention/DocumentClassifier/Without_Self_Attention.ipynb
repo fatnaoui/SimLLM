{
 "cells": [
  {
   "cell_type": "code",
   "execution_count": null,
   "metadata": {
    "id": "I_ouMmsQBibQ"
   },
   "outputs": [],
   "source": [
    "!pip install -q datasets\n",
    "!pip install -q tiktoken"
   ]
  },
  {
   "cell_type": "code",
   "execution_count": null,
   "metadata": {
    "id": "_7rxxpWE-joS"
   },
   "outputs": [],
   "source": [
    "from datasets import load_dataset\n",
    "ds = load_dataset(\"asahi417/multi-domain-document-classification\")\n",
    "\n",
    "import torch\n",
    "from torch.utils.data import Dataset , DataLoader\n",
    "\n",
    "import tiktoken\n",
    "tokenizer = tiktoken.get_encoding('gpt2')"
   ]
  },
  {
   "cell_type": "code",
   "execution_count": null,
   "metadata": {
    "id": "vWKRlSqWT1of"
   },
   "outputs": [],
   "source": [
    "# Arguments\n",
    "max_length = 90\n",
    "num_outputs = 4\n",
    "vocab_size = tokenizer.n_vocab\n",
    "emd_dim = 15"
   ]
  },
  {
   "cell_type": "code",
   "execution_count": null,
   "metadata": {
    "id": "WB8SwQrJ-nK2"
   },
   "outputs": [],
   "source": [
    "print(ds)"
   ]
  },
  {
   "cell_type": "code",
   "execution_count": null,
   "metadata": {
    "id": "yHn7OgKzCmTU"
   },
   "outputs": [],
   "source": [
    "X = ds['test']['text']\n",
    "y = ds['test']['label']"
   ]
  },
  {
   "cell_type": "code",
   "execution_count": null,
   "metadata": {
    "id": "omyy6GO-DLx7"
   },
   "outputs": [],
   "source": [
    "X[:10],y[:10]"
   ]
  },
  {
   "cell_type": "code",
   "execution_count": null,
   "metadata": {},
   "outputs": [],
   "source": [
    "# try maximize max_length"
   ]
  },
  {
   "cell_type": "code",
   "execution_count": null,
   "metadata": {
    "id": "ArdiArQsRHcH"
   },
   "outputs": [],
   "source": [
    "from sklearn.model_selection import train_test_split\n",
    "X_train,X_test,y_train,y_test = train_test_split(\n",
    "    X,y,test_size=0.3,random_state=1,stratify=y\n",
    ")"
   ]
  },
  {
   "cell_type": "code",
   "execution_count": null,
   "metadata": {
    "id": "SRUxtHeiRdqG"
   },
   "outputs": [],
   "source": [
    "len(X_train),len(X_test)"
   ]
  },
  {
   "cell_type": "code",
   "execution_count": null,
   "metadata": {
    "id": "4HUNWq3lJiW_"
   },
   "outputs": [],
   "source": [
    "# Define Data Class\n",
    "class dataset(Dataset):\n",
    "    def __init__(self,X,y,tokenizer,max_length):\n",
    "        self.tokenizer = tokenizer\n",
    "        self.max_length = max_length\n",
    "        self.features = []\n",
    "        self.labels = torch.tensor(y)\n",
    "        for i in range(len(self.labels)):\n",
    "          tokens = self.tokenizer.encode(X[i])[:self.max_length]\n",
    "          if len(tokens) < max_length:\n",
    "                tokens += [0] * (max_length - len(tokens))\n",
    "          self.features.append(torch.tensor(tokens))\n",
    "    def __getitem__(self,index):\n",
    "        one = self.features[index]\n",
    "        two = self.labels[index]\n",
    "        return one,two\n",
    "    def __len__(self):\n",
    "        return len(self.labels)\n",
    "train_ds = dataset(X_train,y_train,tokenizer,max_length)\n",
    "test_ds = dataset(X_test,y_test,tokenizer,max_length)"
   ]
  },
  {
   "cell_type": "code",
   "execution_count": null,
   "metadata": {
    "id": "9xn0RDv9LVs4"
   },
   "outputs": [],
   "source": [
    "# Data Loader\n",
    "torch.manual_seed(123)\n",
    "train_loader = DataLoader(\n",
    "    dataset = train_ds,\n",
    "    shuffle = True,\n",
    "    batch_size = 100,\n",
    "    num_workers = 0,\n",
    "    drop_last = True,\n",
    "    )"
   ]
  },
  {
   "cell_type": "code",
   "execution_count": null,
   "metadata": {
    "id": "5u2dfpPEFn_K"
   },
   "outputs": [],
   "source": [
    "# Building My NeuralNetwork\n",
    "class NeuralNetwork(torch.nn.Module):\n",
    "    def __init__(self,num_inputs,num_outputs,vocab_size,emd_dim):\n",
    "        super().__init__()\n",
    "        self.num_inputs = num_inputs\n",
    "        self.num_outputs = num_outputs\n",
    "        self.vocab_size = vocab_size\n",
    "        self.emd_dim = emd_dim\n",
    "\n",
    "        self.tok_emb = torch.nn.Embedding(self.vocab_size,self.emd_dim)\n",
    "        self.pos_emb = torch.nn.Embedding(self.num_inputs, self.emd_dim)\n",
    "        \n",
    "        self.layers = torch.nn.Sequential(\n",
    "\n",
    "            # 1st hidden layer\n",
    "            torch.nn.Linear(self.emd_dim,30),\n",
    "            torch.nn.ReLU(),\n",
    "\n",
    "            # 2nd hidden layer\n",
    "            torch.nn.Linear(30,20),\n",
    "            torch.nn.ReLU(),\n",
    "\n",
    "            # output layer\n",
    "            torch.nn.Linear(20,self.num_outputs)\n",
    "        )\n",
    "\n",
    "    def forward(self,x):\n",
    "        tok_embeds = self.tok_emb(x)\n",
    "        pos_embeds = self.pos_emb(torch.arange(self.num_inputs))\n",
    "        x = tok_embeds + pos_embeds\n",
    "\n",
    "        x = x.mean(dim=1)  # Shape: [batch_size, emd_dim]\n",
    "        \n",
    "        logits = self.layers(x)\n",
    "        return logits"
   ]
  },
  {
   "cell_type": "code",
   "execution_count": null,
   "metadata": {
    "id": "VwMxeKYoTdNX"
   },
   "outputs": [],
   "source": [
    "# Training\n",
    "import torch.nn.functional as F\n",
    "torch.manual_seed(123)\n",
    "model = NeuralNetwork(max_length,num_outputs,vocab_size,emd_dim)\n",
    "optimizer = torch.optim.SGD(model.parameters(),lr = 0.1)\n",
    "\n",
    "num_epochs = 200\n",
    "for i in range(num_epochs):\n",
    "    model.train()\n",
    "    for batch ,(features,labels) in enumerate(train_loader):\n",
    "        logits = model(features)\n",
    "        loss = F.cross_entropy(logits,labels)\n",
    "        optimizer.zero_grad()\n",
    "        loss.backward()\n",
    "        optimizer.step()\n",
    "        \n",
    "        # Print loss and progress\n",
    "        if (i+1)%10==0:\n",
    "            print(f\"Epoch {i + 1:03d}/{num_epochs:03d}\"\n",
    "                  f\" | Batch {batch + 1:03d}/{len(train_loader):03d}\"\n",
    "                  f\" | Loss: {loss.item():.4f}\")"
   ]
  },
  {
   "cell_type": "code",
   "execution_count": null,
   "metadata": {
    "id": "rTubEcFET9Gh"
   },
   "outputs": [],
   "source": [
    "# Predcition Accuracy\n",
    "def compute_accuracy(model,loader):\n",
    "    correct = 0\n",
    "    tatal_examples = 0\n",
    "    model.eval()\n",
    "    for idx ,(feature,lables) in enumerate(loader):\n",
    "        with torch.no_grad():\n",
    "            logits = model(features)\n",
    "        predictions = torch.argmax(logits,dim=1)\n",
    "        compare = labels == predictions\n",
    "        correct += torch.sum(compare)\n",
    "        tatal_examples += len(compare)\n",
    "    return (correct/tatal_examples).item()"
   ]
  },
  {
   "cell_type": "code",
   "execution_count": null,
   "metadata": {
    "id": "BjgmA52og611"
   },
   "outputs": [],
   "source": [
    "torch.manual_seed(123)\n",
    "test_loader = DataLoader(\n",
    "    dataset = test_ds,\n",
    "    shuffle = False,\n",
    "    batch_size = 500,\n",
    "    num_workers = 0,\n",
    "    )"
   ]
  },
  {
   "cell_type": "code",
   "execution_count": null,
   "metadata": {
    "id": "RDPXVYRShBMV"
   },
   "outputs": [],
   "source": [
    "accuracy_test = compute_accuracy(model,test_loader)\n",
    "accuracy_test"
   ]
  },
  {
   "cell_type": "code",
   "execution_count": null,
   "metadata": {
    "id": "zCpwu9UGhIxI"
   },
   "outputs": [],
   "source": [
    "accuracy_train = compute_accuracy(model,train_loader)\n",
    "accuracy_train"
   ]
  }
 ],
 "metadata": {
  "colab": {
   "provenance": []
  },
  "kernelspec": {
   "display_name": "Python 3",
   "language": "python",
   "name": "python3"
  },
  "language_info": {
   "codemirror_mode": {
    "name": "ipython",
    "version": 3
   },
   "file_extension": ".py",
   "mimetype": "text/x-python",
   "name": "python",
   "nbconvert_exporter": "python",
   "pygments_lexer": "ipython3",
   "version": "3.10.10"
  }
 },
 "nbformat": 4,
 "nbformat_minor": 4
}
