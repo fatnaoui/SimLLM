{
 "cells": [
  {
   "cell_type": "code",
   "execution_count": null,
   "metadata": {
    "id": "I_ouMmsQBibQ"
   },
   "outputs": [],
   "source": [
    "!pip install -q datasets\n",
    "!pip install -q tiktoken"
   ]
  },
  {
   "cell_type": "code",
   "execution_count": null,
   "metadata": {
    "id": "_7rxxpWE-joS"
   },
   "outputs": [],
   "source": [
    "from datasets import load_dataset\n",
    "ds = load_dataset(\"asahi417/multi-domain-document-classification\")\n",
    "\n",
    "import torch\n",
    "from torch.utils.data import Dataset , DataLoader\n",
    "\n",
    "import tiktoken\n",
    "tokenizer = tiktoken.get_encoding('gpt2')"
   ]
  },
  {
   "cell_type": "code",
   "execution_count": null,
   "metadata": {
    "id": "vWKRlSqWT1of"
   },
   "outputs": [],
   "source": [
    "# Arguments\n",
    "max_length = 95  #\n",
    "num_outputs = 4\n",
    "vocab_size = tokenizer.n_vocab\n",
    "emd_dim = 16"
   ]
  },
  {
   "cell_type": "code",
   "execution_count": null,
   "metadata": {
    "id": "WB8SwQrJ-nK2"
   },
   "outputs": [],
   "source": [
    "print(ds)"
   ]
  },
  {
   "cell_type": "code",
   "execution_count": null,
   "metadata": {
    "id": "yHn7OgKzCmTU"
   },
   "outputs": [],
   "source": [
    "X = ds['test']['text']\n",
    "y = ds['test']['label']"
   ]
  },
  {
   "cell_type": "code",
   "execution_count": null,
   "metadata": {
    "id": "omyy6GO-DLx7"
   },
   "outputs": [],
   "source": [
    "X[:10],y[:10]"
   ]
  },
  {
   "cell_type": "code",
   "execution_count": null,
   "metadata": {
    "id": "ArdiArQsRHcH"
   },
   "outputs": [],
   "source": [
    "from sklearn.model_selection import train_test_split\n",
    "X_train,X_test,y_train,y_test = train_test_split(\n",
    "    X,y,test_size=0.3,random_state=1,stratify=y\n",
    ")"
   ]
  },
  {
   "cell_type": "code",
   "execution_count": null,
   "metadata": {
    "id": "SRUxtHeiRdqG"
   },
   "outputs": [],
   "source": [
    "len(X_train),len(X_test)"
   ]
  },
  {
   "cell_type": "code",
   "execution_count": null,
   "metadata": {
    "id": "4HUNWq3lJiW_"
   },
   "outputs": [],
   "source": [
    "# Define Data Class\n",
    "class dataset(Dataset):\n",
    "    def __init__(self,X,y,tokenizer,max_length):\n",
    "        self.tokenizer = tokenizer\n",
    "        self.max_length = max_length\n",
    "        self.features = []\n",
    "        self.labels = torch.tensor(y)\n",
    "        for i in range(len(self.labels)):\n",
    "          tokens = self.tokenizer.encode(X[i])[:self.max_length]\n",
    "          if len(tokens) < max_length:\n",
    "                tokens += [0] * (max_length - len(tokens))\n",
    "          self.features.append(torch.tensor(tokens))\n",
    "    def __getitem__(self,index):\n",
    "        one = self.features[index]\n",
    "        two = self.labels[index]\n",
    "        return one,two\n",
    "    def __len__(self):\n",
    "        return len(self.labels)\n",
    "train_ds = dataset(X_train,y_train,tokenizer,max_length)\n",
    "test_ds = dataset(X_test,y_test,tokenizer,max_length)"
   ]
  },
  {
   "cell_type": "code",
   "execution_count": null,
   "metadata": {
    "id": "9xn0RDv9LVs4"
   },
   "outputs": [],
   "source": [
    "# Data Loader\n",
    "torch.manual_seed(123)\n",
    "train_loader = DataLoader(\n",
    "    dataset = train_ds,\n",
    "    shuffle = True,\n",
    "    batch_size = 100,\n",
    "    num_workers = 0,\n",
    "    drop_last = True,\n",
    "    )"
   ]
  },
  {
   "cell_type": "code",
   "execution_count": null,
   "metadata": {},
   "outputs": [],
   "source": [
    "class MultiHeadAttention(torch.nn.Module):\n",
    "  def __init__(self, d_in, d_out,context_length, dropout, num_heads, qkv_bias=False):\n",
    "    super().__init__()\n",
    "    assert d_out % num_heads == 0, \"d_out must be divisible by num_head \"\n",
    "    self.d_out = d_out\n",
    "    self.num_heads = num_heads\n",
    "    self.head_dim = d_out // num_heads\n",
    "    self.W_query = torch.nn.Linear(d_in, d_out, bias=qkv_bias)\n",
    "    self.W_key = torch.nn.Linear(d_in, d_out, bias=qkv_bias)\n",
    "    self.W_value = torch.nn.Linear(d_in, d_out, bias=qkv_bias)\n",
    "    self.out_proj = torch.nn.Linear(d_out, d_out)\n",
    "    self.dropout = torch.nn.Dropout(dropout)\n",
    "    self.register_buffer(\n",
    "      'mask',\n",
    "      torch.triu(torch.ones(context_length, context_length), diagonal=1)\n",
    "    )\n",
    "  def forward(self, x):\n",
    "    b, num_tokens, d_in = x.shape\n",
    "    keys = self.W_key(x)\n",
    "    queries = self.W_query(x)\n",
    "    values = self.W_value(x)\n",
    "    keys = keys.view(b, num_tokens, self.num_heads, self.head_dim)\n",
    "    values = values.view(b, num_tokens, self.num_heads, self.head_dim)\n",
    "    queries = queries.view(b, num_tokens, self.num_heads, self.head_dim)\n",
    "    keys = keys.transpose(1, 2)\n",
    "    queries = queries.transpose(1, 2)\n",
    "    values = values.transpose(1, 2)\n",
    "    attn_scores = queries @ keys.transpose(2, 3)\n",
    "    mask_bool = self.mask.bool()[:num_tokens, :num_tokens]\n",
    "    attn_scores.masked_fill_(mask_bool, -torch.inf)\n",
    "    attn_weights = torch.softmax(\n",
    "      attn_scores / keys.shape[-1]**0.5, dim=-1)\n",
    "    attn_weights = self.dropout(attn_weights)\n",
    "    context_vec = (attn_weights @ values).transpose(1, 2)\n",
    "    context_vec = context_vec.contiguous().view(b, num_tokens, self.d_out)\n",
    "    context_vec = self.out_proj(context_vec)\n",
    "    return context_vec"
   ]
  },
  {
   "cell_type": "code",
   "execution_count": null,
   "metadata": {
    "id": "5u2dfpPEFn_K"
   },
   "outputs": [],
   "source": [
    "class NeuralNetwork(torch.nn.Module):\n",
    "    def __init__(self, num_inputs, num_outputs, vocab_size, emd_dim, num_heads, dropout, context_length):\n",
    "        super().__init__()\n",
    "        self.num_inputs = num_inputs\n",
    "        self.num_outputs = num_outputs\n",
    "        self.vocab_size = vocab_size\n",
    "        self.emd_dim = emd_dim\n",
    "        self.num_heads = num_heads\n",
    "        self.dropout = dropout\n",
    "        self.context_length = context_length\n",
    "\n",
    "        # Embedding\n",
    "        self.tok_emb = torch.nn.Embedding(self.vocab_size, self.emd_dim)\n",
    "        self.pos_emb = torch.nn.Embedding(self.num_inputs, self.emd_dim)\n",
    "\n",
    "        # Custom Multi-Head Attention Layer\n",
    "        self.attention = MultiHeadAttention(\n",
    "            d_in=self.emd_dim, \n",
    "            d_out=self.emd_dim, \n",
    "            context_length=self.context_length, \n",
    "            dropout=self.dropout, \n",
    "            num_heads=self.num_heads\n",
    "        )\n",
    "        \n",
    "        self.layers = torch.nn.Sequential(\n",
    "            # 1st hidden layer\n",
    "            torch.nn.Linear(self.emd_dim, 30),\n",
    "            torch.nn.ReLU(),\n",
    "\n",
    "            # 2nd hidden layer\n",
    "            torch.nn.Linear(30, 20),\n",
    "            torch.nn.ReLU(),\n",
    "\n",
    "            # Output layer\n",
    "            torch.nn.Linear(20, self.num_outputs)\n",
    "        )\n",
    "\n",
    "    def forward(self, x):\n",
    "        tok_embeds = self.tok_emb(x)\n",
    "        pos_embeds = self.pos_emb(torch.arange(self.num_inputs, device=x.device))\n",
    "        x = tok_embeds + pos_embeds\n",
    "\n",
    "        # Apply self-attention mechanism\n",
    "        x = self.attention(x)\n",
    "        \n",
    "        x = x.mean(dim=1)  # Shape: [batch_size, emd_dim]\n",
    "\n",
    "        logits = self.layers(x)\n",
    "        return logits\n"
   ]
  },
  {
   "cell_type": "code",
   "execution_count": null,
   "metadata": {
    "id": "VwMxeKYoTdNX"
   },
   "outputs": [],
   "source": [
    "# Training\n",
    "torch.manual_seed(123)\n",
    "import torch.nn.functional as F\n",
    "\n",
    "# Initialize model\n",
    "model = NeuralNetwork(\n",
    "    num_inputs=max_length,       \n",
    "    num_outputs=num_outputs,     \n",
    "    vocab_size=vocab_size,       \n",
    "    emd_dim=emd_dim,             \n",
    "    num_heads=4,                 \n",
    "    dropout=0.1,                 \n",
    "    context_length=max_length    \n",
    ")\n",
    "\n",
    "# Optimizer\n",
    "optimizer = torch.optim.SGD(model.parameters(), lr=0.1)\n",
    "\n",
    "# Training loop\n",
    "num_epochs = 200\n",
    "for epoch in range(num_epochs):\n",
    "    model.train()\n",
    "    for batch, (features, labels) in enumerate(train_loader):\n",
    "        # Forward pass\n",
    "        logits = model(features)\n",
    "\n",
    "        # Loss computation\n",
    "        loss = F.cross_entropy(logits, labels)\n",
    "\n",
    "        # Backward pass and optimization\n",
    "        optimizer.zero_grad()\n",
    "        loss.backward()\n",
    "        optimizer.step()\n",
    "\n",
    "        # Print loss and progress\n",
    "        if (epoch+1)%10==0:\n",
    "            print(f\"Epoch {epoch + 1:03d}/{num_epochs:03d}\"\n",
    "                  f\" | Batch {batch + 1:03d}/{len(train_loader):03d}\"\n",
    "                  f\" | Loss: {loss.item():.4f}\")\n"
   ]
  },
  {
   "cell_type": "code",
   "execution_count": null,
   "metadata": {
    "id": "rTubEcFET9Gh"
   },
   "outputs": [],
   "source": [
    "# Predcition Accuracy\n",
    "def compute_accuracy(model,test_loader):\n",
    "    correct = 0\n",
    "    tatal_examples = 0\n",
    "    model.eval()\n",
    "    for idx ,(feature,lables) in enumerate(test_loader):\n",
    "        with torch.no_grad():\n",
    "            logits = model(features)\n",
    "        predictions = torch.argmax(logits,dim=1)\n",
    "        compare = labels == predictions\n",
    "        correct += torch.sum(compare)\n",
    "        tatal_examples += len(compare)\n",
    "    return (correct/tatal_examples).item()"
   ]
  },
  {
   "cell_type": "code",
   "execution_count": null,
   "metadata": {
    "id": "BjgmA52og611"
   },
   "outputs": [],
   "source": [
    "torch.manual_seed(123)\n",
    "test_loader = DataLoader(\n",
    "    dataset = test_ds,\n",
    "    shuffle = False,\n",
    "    batch_size = 500,\n",
    "    num_workers = 0,\n",
    "    )"
   ]
  },
  {
   "cell_type": "code",
   "execution_count": null,
   "metadata": {
    "id": "RDPXVYRShBMV"
   },
   "outputs": [],
   "source": [
    "accuracy_test = compute_accuracy(model,test_loader)\n",
    "accuracy_test"
   ]
  },
  {
   "cell_type": "code",
   "execution_count": null,
   "metadata": {
    "id": "zCpwu9UGhIxI"
   },
   "outputs": [],
   "source": [
    "accuracy_train = compute_accuracy(model,train_loader)\n",
    "accuracy_train"
   ]
  },
  {
   "cell_type": "code",
   "execution_count": null,
   "metadata": {
    "id": "Z5LNebElhRcZ"
   },
   "outputs": [],
   "source": []
  },
  {
   "cell_type": "code",
   "execution_count": null,
   "metadata": {},
   "outputs": [],
   "source": []
  }
 ],
 "metadata": {
  "colab": {
   "provenance": []
  },
  "kernelspec": {
   "display_name": "Python 3",
   "language": "python",
   "name": "python3"
  },
  "language_info": {
   "codemirror_mode": {
    "name": "ipython",
    "version": 3
   },
   "file_extension": ".py",
   "mimetype": "text/x-python",
   "name": "python",
   "nbconvert_exporter": "python",
   "pygments_lexer": "ipython3",
   "version": "3.10.10"
  }
 },
 "nbformat": 4,
 "nbformat_minor": 4
}
